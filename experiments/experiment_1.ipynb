{
 "cells": [
  {
   "cell_type": "code",
   "execution_count": null,
   "metadata": {},
   "outputs": [],
   "source": [
    "\"\"\"\n",
    "Experiment 1\n",
    "For nbest files of modified, german, russian, get predictions for each question\n",
    "Take the prediction with highest probability\n",
    "\"\"\"\n",
    "\n",
    "import json\n",
    "\n",
    "def getJSONObj(filename):\n",
    "    with open(filename) as f:\n",
    "        return json.load(f)\n",
    "\n",
    "###################################    \n",
    "############ Filenames ############\n",
    "modified_filename = '' # TODO\n",
    "german_filename = ''         # TODO\n",
    "russian_filename = ''        # TODO\n",
    "###################################\n",
    "\n",
    "modified = getJSONObj(modified_filename)\n",
    "german = getJSONObj(german_filename)\n",
    "russian = getJSONObj(russian_filename)\n",
    "preds = {}"
   ]
  },
  {
   "cell_type": "code",
   "execution_count": null,
   "metadata": {},
   "outputs": [],
   "source": [
    "for qid in modified:\n",
    "    preds_modified = modified[qid]\n",
    "    preds_german = german[qid]\n",
    "    preds_russian = russian[qid]\n",
    "    \n",
    "    combined_preds = preds_modified + preds_german + preds_russian\n",
    "    \n",
    "    # sorting in descending order based on probability, and taking top probability\n",
    "    top_prediction_obj = sorted(combined_preds, key=lambda x: x[\"probability\"], reverse=True)[0]\n",
    "    preds[qid] = top_prediction_obj['text']"
   ]
  },
  {
   "cell_type": "code",
   "execution_count": null,
   "metadata": {},
   "outputs": [],
   "source": [
    "with open('predictions_combined.json', 'w') as f:\n",
    "    json.dump(preds, f)"
   ]
  }
 ],
 "metadata": {
  "kernelspec": {
   "display_name": "cs224n",
   "language": "python",
   "name": "cs224n"
  },
  "language_info": {
   "codemirror_mode": {
    "name": "ipython",
    "version": 3
   },
   "file_extension": ".py",
   "mimetype": "text/x-python",
   "name": "python",
   "nbconvert_exporter": "python",
   "pygments_lexer": "ipython3",
   "version": "3.7.6"
  }
 },
 "nbformat": 4,
 "nbformat_minor": 2
}
